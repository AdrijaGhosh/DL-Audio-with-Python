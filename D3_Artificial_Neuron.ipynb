{
 "cells": [
  {
   "cell_type": "code",
   "execution_count": 3,
   "id": "8aebf2f1-ed5f-443c-9d12-f27eb4228bfd",
   "metadata": {},
   "outputs": [
    {
     "name": "stdout",
     "output_type": "stream",
     "text": [
      "0.610639233949222\n"
     ]
    }
   ],
   "source": [
    "import math\n",
    "def sigmoid(x):\n",
    "    y=1.0/(1+math.exp(-x))\n",
    "    return y\n",
    "\n",
    "def activate (inputs,weights):\n",
    "    #perform net input\n",
    "    h=0\n",
    "    for x,w in zip(inputs,weights): #x,w 0-2nd index of array inputs,weights\n",
    "        h+=x*w\n",
    "        \n",
    "    #perform activation\n",
    "    return sigmoid(h)\n",
    "if __name__==\"__main__\":\n",
    "    inputs=[0.5,0.3,0.2]\n",
    "    weights=[0.4,0.7,0.2]\n",
    "    output=activate(inputs,weights)\n",
    "    print(output)"
   ]
  },
  {
   "cell_type": "code",
   "execution_count": null,
   "id": "1f4f3e82-a3da-4d25-b9b7-0e1ea73679cf",
   "metadata": {},
   "outputs": [],
   "source": []
  }
 ],
 "metadata": {
  "kernelspec": {
   "display_name": "Python 3 (ipykernel)",
   "language": "python",
   "name": "python3"
  },
  "language_info": {
   "codemirror_mode": {
    "name": "ipython",
    "version": 3
   },
   "file_extension": ".py",
   "mimetype": "text/x-python",
   "name": "python",
   "nbconvert_exporter": "python",
   "pygments_lexer": "ipython3",
   "version": "3.9.13"
  }
 },
 "nbformat": 4,
 "nbformat_minor": 5
}
